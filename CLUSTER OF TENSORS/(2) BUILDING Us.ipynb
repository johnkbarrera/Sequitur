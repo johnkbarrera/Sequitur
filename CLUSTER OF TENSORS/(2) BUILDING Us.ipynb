{
 "cells": [
  {
   "cell_type": "markdown",
   "metadata": {},
   "source": [
    "# CONSTRUCCIÓN DE LOS \"FOOTPRINTS\""
   ]
  },
  {
   "cell_type": "markdown",
   "metadata": {},
   "source": [
    "Construimos los footprints temporales de cada cliente a partir de sus transacciones, de tal manera que agrupamos en un intervalo de d días.\n",
    "\n",
    "\n",
    "Dado:\n",
    "\n",
    "    Sesion de TX\n",
    "        s = {cliente, timestamp, Monto}\n",
    "    \n",
    "    Cada cliente tiene una secuencia de sesiones de TX (S)\n",
    "        S = { s1, s2 , s3, ..., sn}                n: # de sesiones de cada cliente\n",
    "        \n",
    "        "
   ]
  },
  {
   "cell_type": "code",
   "execution_count": 1,
   "metadata": {},
   "outputs": [],
   "source": [
    "# LIBRERIAS\n",
    "import numpy as np\n",
    "import datetime\n",
    "from datetime import date\n",
    "import json\n",
    "import pylab\n",
    "import pandas as pd\n",
    "import matplotlib.pyplot as plt\n",
    "import os, sys"
   ]
  },
  {
   "cell_type": "markdown",
   "metadata": {},
   "source": [
    "## Preparacion de datos"
   ]
  },
  {
   "cell_type": "markdown",
   "metadata": {},
   "source": [
    "### Cargando datos"
   ]
  },
  {
   "cell_type": "code",
   "execution_count": 2,
   "metadata": {
    "scrolled": true
   },
   "outputs": [
    {
     "data": {
      "text/plain": [
       "708962"
      ]
     },
     "execution_count": 2,
     "metadata": {},
     "output_type": "execute_result"
    }
   ],
   "source": [
    "def leer_data():\n",
    "    infile='../SOURCES/data.csv'\n",
    "    data = pd.read_csv(infile)\n",
    "    return data\n",
    "data_original = leer_data()\n",
    "len(data_original)\n",
    "\n",
    "### eliminar despues\n",
    "#data_original = data_original.head(5000)"
   ]
  },
  {
   "cell_type": "markdown",
   "metadata": {},
   "source": [
    "### Preparacion de datos"
   ]
  },
  {
   "cell_type": "code",
   "execution_count": 3,
   "metadata": {
    "scrolled": true
   },
   "outputs": [],
   "source": [
    "data = data_original[['client_id','date','año','mes','dia','hora','mccg','quantity','amount_sol']]"
   ]
  },
  {
   "cell_type": "markdown",
   "metadata": {},
   "source": [
    "## Definicion de variables"
   ]
  },
  {
   "cell_type": "markdown",
   "metadata": {},
   "source": [
    "### mccgs"
   ]
  },
  {
   "cell_type": "code",
   "execution_count": 4,
   "metadata": {
    "scrolled": false
   },
   "outputs": [],
   "source": [
    "# DEFINIMOS MCCGS: PARA CREAR UN FOOTPRINT DINAMICO\n",
    "mccgs = ((data.groupby(['mccg'], as_index=False, sort=True)).count())['mccg']"
   ]
  },
  {
   "cell_type": "markdown",
   "metadata": {},
   "source": [
    "### Clientes"
   ]
  },
  {
   "cell_type": "code",
   "execution_count": 5,
   "metadata": {},
   "outputs": [
    {
     "data": {
      "text/plain": [
       "Index(['+++g8j9k+5A=', '++/oQ9Lb9dI=', '++14g8obpj0=', '++1XMtcwMec=',\n",
       "       '++3gxZFOJCM=', '++438ugzEhg=', '++5u+heOZ8o=', '++70ByX0a3Q=',\n",
       "       '++7i5fi6kBU=', '++834mPfd7g=',\n",
       "       ...\n",
       "       'zzvndpR1ntg=', 'zzvt24FsKYk=', 'zzw6JFGkUrQ=', 'zzwY0tP4zKM=',\n",
       "       'zzxOoziChuk=', 'zzxTJkA/ah0=', 'zzxjK1vzG4E=', 'zzy5LVrTPmc=',\n",
       "       'zzyhW1+NTLM=', 'zzzBu/yw4wE='],\n",
       "      dtype='object', name='client_id', length=227663)"
      ]
     },
     "execution_count": 5,
     "metadata": {},
     "output_type": "execute_result"
    }
   ],
   "source": [
    "# DEFINIMOS LA LISTA DE CLIENTES\n",
    "clientes =  data.groupby('client_id').client_id.count().index\n",
    "clientes"
   ]
  },
  {
   "cell_type": "markdown",
   "metadata": {},
   "source": [
    "# FOOTPRINT PARA CADA MCCG"
   ]
  },
  {
   "cell_type": "markdown",
   "metadata": {},
   "source": [
    "## Unidad de TXs temporales (U)"
   ]
  },
  {
   "cell_type": "markdown",
   "metadata": {},
   "source": [
    "Resume un conjunto de TXs en un periodo de tiempo **“tau”**.\n",
    "<div>Los footprints que creamos será la agrupación de todas las transacciones en \"tau\" de cada cliente, y representará una unidad de comportamiento con 3 dimensiones.</div> \n",
    "\n",
    "\n",
    "Donde:\n",
    "1.  **tau** = 1 semana\n",
    "2.  dimensión 1:    **d**   = 7 días\n",
    "3.  dimensión 2:\t**t**   = 4 turnos\t \n",
    "4.  dimensión 3:    **m**   = # de mccgs en nuestra data.\n",
    "\n",
    "    \n",
    "Para cada cliente:\n",
    "    \n",
    "    Entrada:   S = {s1, ..., sn}\n",
    "    Salida:    SS = {U(1), U(2), U(3), ...,U(m)}     donde m <=n"
   ]
  },
  {
   "cell_type": "markdown",
   "metadata": {},
   "source": [
    "### Funciones de apoyo"
   ]
  },
  {
   "cell_type": "code",
   "execution_count": 6,
   "metadata": {},
   "outputs": [],
   "source": [
    "# definimos los 4 time_windows(t) que usaremos\n",
    "def time_window(hora):\n",
    "    tw = -1\n",
    "    if hora >=0:\n",
    "        tw = 0      # Madrugada\n",
    "    if hora >=6:\n",
    "        tw = 1      # Mañana\n",
    "    if hora >=12:\n",
    "        tw = 2      # Tarde\n",
    "    if hora >=18:\n",
    "        tw = 3      # Noche\n",
    "    return tw"
   ]
  },
  {
   "cell_type": "markdown",
   "metadata": {},
   "source": [
    "Definimos funcion para generar los footprint (U) de un usuario, con los parametros:\n",
    "\n",
    "1. <div> **user**:  Dataset original filtrado para un cliente determinado</div> \n",
    "2. <div> **monto**: Indica si los footprint seran generados con la suma de los el numero de TXs (False) o la suma de los montos por cada TX (True)</div> "
   ]
  },
  {
   "cell_type": "code",
   "execution_count": 7,
   "metadata": {},
   "outputs": [],
   "source": [
    "def procesar_u(user, monto = False):    \n",
    "    uid=list(user['client_id'])[0]              # Cliente_id\n",
    "    years = set(list(user['año']))              # Lista los años en que se tiene TXs registradas\n",
    "    anni = {year:{} for year in list(years)}    # definimos anni como una lista \n",
    "    \n",
    "    # para cada fila, es decir, cada TXs del cliente)\n",
    "    for dat in  range(0,len(user)):\n",
    "        año = user.iloc[dat]['año']\n",
    "        week=str(datetime.datetime(año,user.iloc[dat]['mes'],user.iloc[dat]['dia']).isocalendar()[1])\n",
    "        if len(week)==1:\n",
    "            week = '0'+week\n",
    "        weekday=datetime.datetime(año,user.iloc[dat]['mes'],user.iloc[dat]['dia']).weekday()\n",
    "        turn = time_window(user.iloc[dat]['hora'])\n",
    "        mccg = user.iloc[dat]['mccg']\n",
    "        \n",
    "        # Si la semana no existe en el año\n",
    "        if not(week in anni[año]):\n",
    "            anni[año][week] = {}\n",
    "        # Si el mccg no existe en la semana y año\n",
    "        if not (mccg in anni[año][week]):\n",
    "            anni[año][week][mccg]={}  #NUMERO DE MCCGs VARIABLES\n",
    "        # Si el turno no existe en el mccg,semana y año\n",
    "        if not (turn in anni[año][week][mccg]):\n",
    "            anni[año][week][mccg][turn]=np.array([0]*7)  #CUATRO TURNOS\n",
    "            \n",
    "        if monto:\n",
    "            # suma montos \"importancia por gastos\"\n",
    "            anni[año][week][turn][weekday]+=user.iloc[dat]['amount_sol']\n",
    "        else:\n",
    "            # suma cantidades \"importancia por compras\"\n",
    "            anni[año][week][mccg][turn][weekday]+=user.iloc[dat]['quantity'] \n",
    "            \n",
    "    return uid,anni"
   ]
  },
  {
   "cell_type": "markdown",
   "metadata": {},
   "source": [
    "### Procesando U"
   ]
  },
  {
   "cell_type": "markdown",
   "metadata": {},
   "source": [
    "Generamos en formato json el footprint de cada cliente\n",
    "donde el los índices son: **cliente_id**, **año**, **semana**, **mccg**, **turno** conteniendo un **array[0,...,6]** con los dias.\n",
    "\n"
   ]
  },
  {
   "cell_type": "code",
   "execution_count": 8,
   "metadata": {},
   "outputs": [
    {
     "name": "stdout",
     "output_type": "stream",
     "text": [
      "Number of rows 708962\n",
      "vamos en el  1\n",
      "vamos en el  100001\n",
      "vamos en el  200001\n"
     ]
    }
   ],
   "source": [
    "##################################################\n",
    "#        Procesando U de cada CLIENTE\n",
    "##################################################\n",
    "    \n",
    "profiles={}           # Creamos lista de prefiles\n",
    "contador=0 \n",
    "print(\"Number of rows \"+str(len(data))) \n",
    "\n",
    "# Para cada cliente\n",
    "for cliente in clientes:\n",
    "    cliente_i= data[data['client_id'] == cliente]       # filtramos dataset solo para el cliente i\n",
    "    results=procesar_u(cliente_i, monto=False)          # procesamos u del usuario i\n",
    "    profiles[results[0]]=results[1]                     # cargamos lista de indice \"uid\" con la data del cliente(json)\n",
    "    contador += 1\n",
    "    if contador % 100000 == 1:\n",
    "        print(\"vamos en el \",contador)"
   ]
  },
  {
   "cell_type": "code",
   "execution_count": 9,
   "metadata": {
    "scrolled": true
   },
   "outputs": [],
   "source": [
    "# profiles"
   ]
  },
  {
   "cell_type": "markdown",
   "metadata": {},
   "source": [
    "Creamos la cabecera dinámica donde se guardaran todos los footprints generados"
   ]
  },
  {
   "cell_type": "code",
   "execution_count": 10,
   "metadata": {},
   "outputs": [],
   "source": [
    "cabecera = 'customer_id,year,week,profile_id,mccg,turn,size'\n",
    "for i in range(len(mccgs)):\n",
    "    for j in range(4):                # numero de turnos\n",
    "        for k in range(7):            # numero de dias\n",
    "            cabecera = cabecera+','+'m'+str(mccgs[i])+'t'+str(j)+'d'+str(k)\n",
    "cabecera = cabecera+'\\n'"
   ]
  },
  {
   "cell_type": "code",
   "execution_count": 11,
   "metadata": {},
   "outputs": [
    {
     "name": "stdout",
     "output_type": "stream",
     "text": [
      "number of footprint: 561753\n"
     ]
    }
   ],
   "source": [
    "outfile='../SOURCES/'           # Indicamos archivo de salida \n",
    "individual_footprint=\"%sfootprint\" %(outfile)\n",
    "fw=open(individual_footprint,'w')  \n",
    "\n",
    "fw.write(cabecera)                    # Escribimos la cabecera\n",
    "footprints=0 \n",
    "\n",
    "# Guardamos el Json como un dataframe\n",
    "# Para cada uid (cliente)\n",
    "for uid in profiles:   \n",
    "    profile_id=0\n",
    "    # En cada año\n",
    "    for year in profiles[uid]:       \n",
    "        # Por cada semana\n",
    "        for week in profiles[uid][year]:                        \n",
    "            temp=np.zeros(4*7*len(mccgs))                      # creamos tensor con 0s\n",
    "            \n",
    "            for mccg in profiles[uid][year][week]:             # cargamos los mccgs\n",
    "                pos_mccg = list(mccgs).index(mccg)             # posicion del mccg\n",
    "                temp2 = np.zeros(4*7)                          # creamos vector temporal turnos por dias con 0s\n",
    "                for turn in profiles[uid][year][week][mccg]:   # cargamos turnos\n",
    "                    pos_turn = turn                            # posicion del turno\n",
    "                    \n",
    "                    d=profiles[uid][year][week][mccg][turn]    # Dias como array        \n",
    "                    \n",
    "                    for k in range(pos_turn*7,(pos_turn+1)*7): # cargamos dias\n",
    "                        temp2[k] += d[k-(pos_turn*7)]          # posicion de cada dia en el vector temporal\n",
    "                \n",
    "                for j in range(pos_mccg*28,(pos_mccg+1)*28):\n",
    "                    temp[j] = temp2[j-(pos_mccg*28)]           # vector temporal es cargado en el tensor\n",
    "                \n",
    "            # Escribimos los datos del primer comportamiento (Tensor)    \n",
    "            txt = ''+str(uid)+','+str(year)+','+str(week)+','+str(profile_id)+','+str(mccg)+','+str(turn)+','+str(sum(temp))\n",
    "            for i in range(len(temp)):\n",
    "                txt = txt +','+str(temp[i])\n",
    "            fw.write(txt +'\\n')\n",
    "\n",
    "            profile_id += 1    # perfil cambia cada unidad de fecha diferente (eg. cada semana != es un perfil) de cada cliente\n",
    "            footprints += 1\n",
    "    fw.flush()\n",
    "fw.close()\n",
    "print (\"number of footprint: \"+str(footprints))"
   ]
  },
  {
   "cell_type": "code",
   "execution_count": null,
   "metadata": {},
   "outputs": [],
   "source": []
  }
 ],
 "metadata": {
  "kernelspec": {
   "display_name": "Python 3",
   "language": "python",
   "name": "python3"
  },
  "language_info": {
   "codemirror_mode": {
    "name": "ipython",
    "version": 3
   },
   "file_extension": ".py",
   "mimetype": "text/x-python",
   "name": "python",
   "nbconvert_exporter": "python",
   "pygments_lexer": "ipython3",
   "version": "3.6.5"
  },
  "toc": {
   "base_numbering": 1,
   "nav_menu": {},
   "number_sections": false,
   "sideBar": true,
   "skip_h1_title": false,
   "title_cell": "Table of Contents",
   "title_sidebar": "Contents",
   "toc_cell": false,
   "toc_position": {
    "height": "calc(100% - 180px)",
    "left": "10px",
    "top": "150px",
    "width": "280px"
   },
   "toc_section_display": true,
   "toc_window_display": true
  }
 },
 "nbformat": 4,
 "nbformat_minor": 2
}
