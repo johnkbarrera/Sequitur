{
 "cells": [
  {
   "cell_type": "code",
   "execution_count": 113,
   "metadata": {},
   "outputs": [],
   "source": [
    "import numpy as np\n",
    "import pandas as pd\n",
    "from ast import literal_eval"
   ]
  },
  {
   "cell_type": "markdown",
   "metadata": {},
   "source": [
    "# Cargar Data"
   ]
  },
  {
   "cell_type": "code",
   "execution_count": 114,
   "metadata": {},
   "outputs": [
    {
     "data": {
      "text/html": [
       "<div>\n",
       "<style scoped>\n",
       "    .dataframe tbody tr th:only-of-type {\n",
       "        vertical-align: middle;\n",
       "    }\n",
       "\n",
       "    .dataframe tbody tr th {\n",
       "        vertical-align: top;\n",
       "    }\n",
       "\n",
       "    .dataframe thead th {\n",
       "        text-align: right;\n",
       "    }\n",
       "</style>\n",
       "<table border=\"1\" class=\"dataframe\">\n",
       "  <thead>\n",
       "    <tr style=\"text-align: right;\">\n",
       "      <th></th>\n",
       "      <th>Clientes</th>\n",
       "      <th>Corpus</th>\n",
       "    </tr>\n",
       "  </thead>\n",
       "  <tbody>\n",
       "    <tr>\n",
       "      <th>0</th>\n",
       "      <td>+++g8j9k+5A=</td>\n",
       "      <td>[SinActividad, SinActividad, SinActividad, Sin...</td>\n",
       "    </tr>\n",
       "    <tr>\n",
       "      <th>1</th>\n",
       "      <td>++/oQ9Lb9dI=</td>\n",
       "      <td>[SinActividad, SinActividad, SinActividad, Sin...</td>\n",
       "    </tr>\n",
       "    <tr>\n",
       "      <th>2</th>\n",
       "      <td>++14g8obpj0=</td>\n",
       "      <td>[SinActividad, SinActividad, SinActividad, Sin...</td>\n",
       "    </tr>\n",
       "    <tr>\n",
       "      <th>3</th>\n",
       "      <td>++1XMtcwMec=</td>\n",
       "      <td>[SinActividad, SinActividad, SinActividad, Sin...</td>\n",
       "    </tr>\n",
       "    <tr>\n",
       "      <th>4</th>\n",
       "      <td>++3gxZFOJCM=</td>\n",
       "      <td>[cluster_30, SinActividad, SinActividad, SinAc...</td>\n",
       "    </tr>\n",
       "  </tbody>\n",
       "</table>\n",
       "</div>"
      ],
      "text/plain": [
       "       Clientes                                             Corpus\n",
       "0  +++g8j9k+5A=  [SinActividad, SinActividad, SinActividad, Sin...\n",
       "1  ++/oQ9Lb9dI=  [SinActividad, SinActividad, SinActividad, Sin...\n",
       "2  ++14g8obpj0=  [SinActividad, SinActividad, SinActividad, Sin...\n",
       "3  ++1XMtcwMec=  [SinActividad, SinActividad, SinActividad, Sin...\n",
       "4  ++3gxZFOJCM=  [cluster_30, SinActividad, SinActividad, SinAc..."
      ]
     },
     "execution_count": 114,
     "metadata": {},
     "output_type": "execute_result"
    }
   ],
   "source": [
    "path='../SOURCES/' \n",
    "path_out='%sCorpus.csv' %(path)\n",
    "data = pd.read_csv(path_out, sep=\",\", header=0, converters={\"Corpus\": literal_eval})\n",
    "data.head()"
   ]
  },
  {
   "cell_type": "code",
   "execution_count": 115,
   "metadata": {},
   "outputs": [],
   "source": [
    "clientes = data[\"Clientes\"].values"
   ]
  },
  {
   "cell_type": "code",
   "execution_count": 116,
   "metadata": {},
   "outputs": [],
   "source": [
    "corpus = list(data[\"Corpus\"])"
   ]
  },
  {
   "cell_type": "markdown",
   "metadata": {},
   "source": [
    "# Sequitur para inferir reglas gramaticales\n",
    "\n",
    "Aplicamos el algoritmo de sequitur para inferir las reglas gramaticales dado por los codigos de los comportamientos, que nos generara \"reglas\", definida por los simbolos que se repiten en la secuencia.\n"
   ]
  },
  {
   "cell_type": "markdown",
   "metadata": {},
   "source": [
    "### Funciones de Apoyo"
   ]
  },
  {
   "cell_type": "markdown",
   "metadata": {},
   "source": [
    "#### Otras Funciones"
   ]
  },
  {
   "cell_type": "code",
   "execution_count": 117,
   "metadata": {},
   "outputs": [],
   "source": [
    "# Verifica que los elementos de una lista esten contenidos en otra lista\n",
    "def elementos_en_lista(lista1, lista2):\n",
    "    for i in range(len(lista1)):\n",
    "        if not(lista1[i] in lista2):\n",
    "            return False    \n",
    "    return True"
   ]
  },
  {
   "cell_type": "markdown",
   "metadata": {},
   "source": [
    "#### Algoritmo de Sequitur"
   ]
  },
  {
   "cell_type": "code",
   "execution_count": 118,
   "metadata": {},
   "outputs": [],
   "source": [
    "from SequiturAlgorithm import run_sequitur"
   ]
  },
  {
   "cell_type": "markdown",
   "metadata": {},
   "source": [
    "#### Descompresion de Sequitur"
   ]
  },
  {
   "cell_type": "code",
   "execution_count": 119,
   "metadata": {},
   "outputs": [],
   "source": [
    "# Retorma la logintud de cada regla extendida y la regla estendida\n",
    "def descomprimir_sequitur(semilla_l,nom_reglas,rs_comprimida,rs_tamaño,rs_extendida):\n",
    "    num_reglas = len(nom_reglas)\n",
    "    simbolos_semilla_les = [str(element) for element in list(np.unique(semilla_l))]\n",
    "    simbolos_derivados = []\n",
    "    \n",
    "    incompleto = True\n",
    "    contador = 0\n",
    "    \n",
    "    # 1 prueba: valores on solo 2 elementos\n",
    "    for i in range(num_reglas):\n",
    "        if elementos_en_lista(rs_comprimida[i],simbolos_semilla_les):\n",
    "            rs_extendida[i] = rs_comprimida[i]\n",
    "            rs_tamaño[i] =  len(rs_extendida[i]) # = 2\n",
    "            simbolos_derivados.append(nom_reglas[i])  # cargamos la lista de reglas extendidas ya reconstruidas\n",
    "\n",
    "    while(incompleto):\n",
    "        # 2 pruebas: iterativas de 2 mas elementos\n",
    "        for i in range(num_reglas):\n",
    "            # si su profundidad aun no esta completada\n",
    "            if rs_tamaño[i]==0:\n",
    "                # si sus e estan entre los simbolos ya registrados\n",
    "                if elementos_en_lista(rs_comprimida[i],(simbolos_semilla_les+simbolos_derivados)):\n",
    "                    # para cada elemento de la lista\n",
    "                    for e in range(len(rs_comprimida[i])):\n",
    "                        if rs_comprimida[i][e] in simbolos_semilla_les:\n",
    "                            rs_extendida[i].append(rs_comprimida[i][e])\n",
    "                        if rs_comprimida[i][e] in simbolos_derivados:\n",
    "                            indice = nom_reglas.index(rs_comprimida[i][e])\n",
    "                            rs_extendida[i] =  rs_extendida[i] + rs_extendida[indice]\n",
    "                    rs_tamaño[i] =  len(rs_extendida[i])  # actualizamos valor de prifundidad\n",
    "                    simbolos_derivados.append(nom_reglas[i])  # cargamos la lista de reglas extendida\n",
    "        \n",
    "        # 3 Comprobamos que todas las reglas esten llenas\n",
    "        if not(0 in rs_tamaño):\n",
    "            incompleto = False\n",
    "\n",
    "    return rs_tamaño,rs_extendida"
   ]
  },
  {
   "cell_type": "markdown",
   "metadata": {},
   "source": [
    "### Funcion Principal"
   ]
  },
  {
   "cell_type": "code",
   "execution_count": 120,
   "metadata": {},
   "outputs": [],
   "source": [
    "def generador_de_reglas(lista_original):\n",
    "    # Ejecutamos Sequitur\n",
    "    resp_sequitur = run_sequitur(lista_original)\n",
    "    reglas = resp_sequitur[0]  # Extraemos solo la lista de reglas (Ver Alg. Sequitur)\n",
    "    incidencia = resp_sequitur[1]\n",
    "    \n",
    "    # Creamos listas para cada regla: nombres,exp comprimidad, numero_incidencias, longitud, exp extendida\n",
    "    r_nombre = []\n",
    "    r_comprimida = []\n",
    "    r_incidencias = []\n",
    "    r_longitud = []\n",
    "    r_extendida = []\n",
    "\n",
    "    for i in range(len(reglas)):\n",
    "        nombre = 'R'+str(i) \n",
    "        profundidad = 0\n",
    "        # print(nombre,' -> ',reglas[nombre],\"  =  \",profundidad)\n",
    "        r_nombre.append(nombre)\n",
    "        r_comprimida.append(reglas[nombre])\n",
    "        r_incidencias.append(int(incidencia[nombre]))  # lista de incidencias\n",
    "        r_longitud.append(profundidad)    # Inicialmente cargamos con \"0\"\n",
    "        r_extendida.append([])               # Inicialmente cargamos con listas vacias\n",
    "\n",
    "    # Descomprimimos reglas\n",
    "    resultado = descomprimir_sequitur(lista_original,r_nombre,r_comprimida,r_longitud,r_extendida)\n",
    "\n",
    "    if len(lista_original)!=len(resultado[1][0]):\n",
    "        return \"Error\"\n",
    "\n",
    "    r_longitud = resultado[0]\n",
    "    r_extendida = resultado[1]\n",
    "\n",
    "    return r_nombre, r_comprimida, r_incidencias, r_longitud, r_extendida\n",
    "    #return r_incidencias,incidencia\n",
    "    "
   ]
  },
  {
   "cell_type": "markdown",
   "metadata": {},
   "source": [
    "#### Ejemplo"
   ]
  },
  {
   "cell_type": "code",
   "execution_count": 121,
   "metadata": {},
   "outputs": [
    {
     "data": {
      "text/plain": [
       "(['R0', 'R1', 'R2'],\n",
       " [['R1', 'R2', 'R1', 'c', 'R2'], ['a', 'a'], ['b', 'c']],\n",
       " [0, 2, 2],\n",
       " [9, 2, 2],\n",
       " [['a', 'a', 'b', 'c', 'a', 'a', 'c', 'b', 'c'], ['a', 'a'], ['b', 'c']])"
      ]
     },
     "execution_count": 121,
     "metadata": {},
     "output_type": "execute_result"
    }
   ],
   "source": [
    "ejemplo = [\"a\",\"a\",\"b\",\"c\",\"a\",\"a\",\"c\",\"b\",\"c\"]\n",
    "generador_de_reglas(ejemplo)"
   ]
  },
  {
   "cell_type": "code",
   "execution_count": null,
   "metadata": {},
   "outputs": [],
   "source": []
  },
  {
   "cell_type": "markdown",
   "metadata": {},
   "source": [
    "# Validacion de Reglas de Cada Cliente\n",
    "\n",
    "Aplicamos el algoritmo de sequitur para inferir las reglas gramaticales dado por los codigos de los comportamientos, que nos generara \"reglas\", definida por los simbolos que se repiten en la secuencia.\n"
   ]
  },
  {
   "cell_type": "markdown",
   "metadata": {},
   "source": [
    "### Funciones de Apoyo"
   ]
  },
  {
   "cell_type": "markdown",
   "metadata": {},
   "source": [
    "#### Generador de sequencias aleatorias"
   ]
  },
  {
   "cell_type": "code",
   "execution_count": 122,
   "metadata": {},
   "outputs": [],
   "source": [
    "from random import choice\n",
    "import time\n",
    "\n",
    "\n",
    "def random_sequence(seq_original):\n",
    "    # Fixing random state for reproducibility\n",
    "    semilla = int(time.time()*10000000)\n",
    "    np.random.seed(int(str(semilla)[-9:]))\n",
    "    \n",
    "    tags = list(np.unique(seq_original))        # Etiquetas de unicas\n",
    "    long = len(seq_original)                    # Numero de perfiles unicos del cliente\n",
    "    elementos = {tag:0 for tag in tags}         # Generamos lista aleatoria\n",
    "    for i in range(len(seq_original)):    \n",
    "        simbolo = ejemplo[i]\n",
    "        elementos[simbolo] += 1\n",
    "\n",
    "    sequences = []\n",
    "\n",
    "    for i in range(long):\n",
    "        simbolo_aleatorio = choice(tags)        # Generamos simbolo aleatorio\n",
    "        elementos[simbolo_aleatorio] -= 1\n",
    "        if elementos[simbolo_aleatorio] == 0:\n",
    "            tags.remove(simbolo_aleatorio)\n",
    "        sequences.append(simbolo_aleatorio)\n",
    "\n",
    "    return sequences"
   ]
  },
  {
   "cell_type": "code",
   "execution_count": 123,
   "metadata": {},
   "outputs": [
    {
     "data": {
      "text/plain": [
       "['c', 'a', 'b', 'a', 'c', 'c', 'b', 'a', 'a']"
      ]
     },
     "execution_count": 123,
     "metadata": {},
     "output_type": "execute_result"
    }
   ],
   "source": [
    "random_sequence(ejemplo)"
   ]
  },
  {
   "cell_type": "markdown",
   "metadata": {},
   "source": [
    "#### Informacion de la Regla Original"
   ]
  },
  {
   "cell_type": "markdown",
   "metadata": {},
   "source": [
    "    #-------------------------------------------#\n",
    "    # POSICION      Reglas_originales[POSICION] #\n",
    "    #-------------------------------------------#\n",
    "    #    0              Nombres                 #\n",
    "    #    1              Comprimidas             #\n",
    "    #    2              Incidencias             #\n",
    "    #    3              Longitud                #\n",
    "    #    4              Extendido               #\n",
    "    #-------------------------------------------#"
   ]
  },
  {
   "cell_type": "code",
   "execution_count": 124,
   "metadata": {},
   "outputs": [],
   "source": [
    "# Datos de la lista Original\n",
    "\n",
    "reglas_originales = generador_de_reglas(ejemplo)\n",
    "\n",
    "reglas_originales_nombre = reglas_originales[0]\n",
    "reglas_originales_comprimidas = reglas_originales[1]\n",
    "reglas_originales_incidencias = reglas_originales[2]\n",
    "reglas_originales_longitud = reglas_originales[3]\n",
    "reglas_originales_extendido = reglas_originales[4]"
   ]
  },
  {
   "cell_type": "markdown",
   "metadata": {},
   "source": [
    "#### Generador de Muestra para validar Reglas"
   ]
  },
  {
   "cell_type": "code",
   "execution_count": 125,
   "metadata": {},
   "outputs": [],
   "source": [
    "# lista original,numeros\n",
    "def crear_muestra_reglas(lista_original,num = 100):\n",
    "    \n",
    "    # Datos de la lista Original\n",
    "    reglas_originales = generador_de_reglas(lista_original)\n",
    "    reglas_originales_nombre = reglas_originales[0]\n",
    "    reglas_originales_comprimidas = reglas_originales[1]\n",
    "    reglas_originales_incidencias = reglas_originales[2]\n",
    "    reglas_originales_longitud = reglas_originales[3]\n",
    "    reglas_originales_extendido = reglas_originales[4]\n",
    "    \n",
    "    # Creamos dataframe (nombre_regla, numero_incidencias_en_cada_iteracion, numero_de_iteracion)\n",
    "    matriz = [[], [], []]\n",
    "\n",
    "\n",
    "    for i in range(num):                              # para *num* repeticiones\n",
    "        \n",
    "        sequencia_aleatoria = random_sequence(lista_original)                # Creamos la lista Aleatoria\n",
    "        \n",
    "        # Datos de la lista Aleatoria\n",
    "        reglas_aleatorias = generador_de_reglas(sequencia_aleatoria)\n",
    "        reglas_aleatorias_extendidas = reglas_aleatorias[4]  \n",
    "        reglas_aleatorias_incidencias = reglas_aleatorias[2] \n",
    "        \n",
    "        # Para cada regla de las regla_originales\n",
    "        for j in range(len(reglas_originales_nombre)):\n",
    "            \n",
    "            # Para cada REGLA de las \"reglas_originales\"\n",
    "            \n",
    "            # Buscamos si \"REGLA original\" apareces entre las \"reglas_aleatorias_extendidas\" y extraemos su numero de incidencias\n",
    "            numero_de_incidencia = 0\n",
    "            for k in range(len(reglas_aleatorias_extendidas)):\n",
    "                # Si la REGLA (reglas_aleatorias_extendidas) se encuentra en lista de \"reglas_aleatorias_extendidas\"\n",
    "                if reglas_originales_extendido[j] == reglas_aleatorias_extendidas[k]:\n",
    "                    #print(True)\n",
    "                    numero_de_incidencia = int(reglas_aleatorias_incidencias[k])\n",
    "        \n",
    "            # Cargamos fila de la lista Matriz\n",
    "            matriz[0].append(reglas_originales_nombre[j])   # Guardamos nombre en la lista                \n",
    "            matriz[1].append(numero_de_incidencia)          # Guardamos numero de iteracion\n",
    "            matriz[2].append(i)                             # Guardamos numero de iteracion\n",
    "    \n",
    "    return matriz\n",
    "            \n",
    "            "
   ]
  },
  {
   "cell_type": "code",
   "execution_count": null,
   "metadata": {},
   "outputs": [],
   "source": []
  },
  {
   "cell_type": "markdown",
   "metadata": {},
   "source": [
    "## Grafico para cada Cliente"
   ]
  },
  {
   "cell_type": "code",
   "execution_count": 126,
   "metadata": {},
   "outputs": [],
   "source": [
    "import matplotlib.pyplot as plt\n",
    "import matplotlib.mlab as mlab\n",
    "import math\n"
   ]
  },
  {
   "cell_type": "markdown",
   "metadata": {},
   "source": [
    "    Para cada cliente\n",
    "        \n",
    "        Obtener lista de Reglas y DAtos\n",
    "        Obtener muestra a validar (Muestra)\n",
    "        \n",
    "        Para cada Regla de la Muestra\n",
    "            imprimir tabla agrupada por numero de incidencias\n",
    "            plotear"
   ]
  },
  {
   "cell_type": "code",
   "execution_count": 127,
   "metadata": {},
   "outputs": [
    {
     "name": "stdout",
     "output_type": "stream",
     "text": [
      "Cliente:  0\n",
      "Cliente:  1\n",
      "Cliente:  2\n",
      "Cliente:  3\n",
      "Cliente:  4\n",
      "Cliente:  5\n",
      "Cliente:  6\n",
      "Cliente:  7\n",
      "Cliente:  8\n",
      "Cliente:  9\n",
      "Cliente:  10\n"
     ]
    }
   ],
   "source": [
    "\n",
    "# Clientes - Coordenada_X - Coordenada_Y - Distribucion - Longitud - Regla_extendida\n",
    "resultados_list = [[],[],[],[],[],[]]\n",
    "\n",
    "for i in range(len(clientes)):\n",
    "    \n",
    "    ejemplo = corpus[i]\n",
    "    # Datos de la regla\n",
    "    reglas_originales = generador_de_reglas(ejemplo)\n",
    "    reglas_originales_nombre = reglas_originales[0]\n",
    "    reglas_originales_comprimidas = reglas_originales[1]\n",
    "    reglas_originales_incidencias = reglas_originales[2]\n",
    "    reglas_originales_longitud = reglas_originales[3]\n",
    "    reglas_originales_extendido = reglas_originales[4]\n",
    "\n",
    "\n",
    "    print(\"Cliente: \",i)\n",
    "    # Creamos dataframe (nombre_regla, numero_incidencias_en_cada_iteracion, numero_de_iteracion)\n",
    "    m = crear_muestra_reglas(ejemplo,1000)\n",
    "    muestra = pd.DataFrame(data= {'Nombre': m[0], 'Incidencias': m[1], 'Iteracion': m[2]})\n",
    "    #print(muestra.head(10))\n",
    "    \n",
    "    # Para cada Regla\n",
    "    for j in range(len(reglas_originales_nombre)):\n",
    "        #print(\"Regla: \",j,\"       ==> \",reglas_originales_extendido)\n",
    "        #print(\"Regla: \",reglas_originales_nombre[j])\n",
    "        \n",
    "        # Muestra de solo un aregla y distribucion de una regla\n",
    "        submuestra = muestra.loc[muestra['Nombre'] == reglas_originales_nombre[j]]\n",
    "        distribucion = submuestra.groupby(['Incidencias']).count()      # Us por incidencias\n",
    "        #print(ditribucion)\n",
    "        \n",
    "        #xx = distribucion[\"Nombre\"].tolist()\n",
    "        yy = distribucion[\"Iteracion\"].tolist()\n",
    "        xx = [str(i) for i in list(distribucion.index)]\n",
    "\n",
    "        resultados_list[0].append(clientes[i])\n",
    "        resultados_list[1].append(xx)\n",
    "        resultados_list[2].append(yy)\n",
    "        resultados_list[3].append(distribucion)\n",
    "        resultados_list[4].append(len(reglas_originales_extendido[j]))\n",
    "        resultados_list[5].append(reglas_originales_extendido[j])\n",
    "        \n",
    "        # plt.bar(xx,yy)\n",
    "        # plt.plot(xx,distribucion)\n",
    "        # plt.show()\n",
    "    \n",
    "    if i == 10:\n",
    "        break;"
   ]
  },
  {
   "cell_type": "code",
   "execution_count": 128,
   "metadata": {},
   "outputs": [],
   "source": [
    "# Ploteamos"
   ]
  },
  {
   "cell_type": "code",
   "execution_count": 129,
   "metadata": {},
   "outputs": [
    {
     "name": "stdout",
     "output_type": "stream",
     "text": [
      "Cliente:  2\n",
      "Cliente:  +++g8j9k+5A=\n",
      "Word ['SinActividad', 'SinActividad', 'SinActividad']\n"
     ]
    },
    {
     "data": {
      "image/png": "[encoded data removed]",
      "text/plain": [
       "<Figure size 432x288 with 1 Axes>"
      ]
     },
     "metadata": {
      "needs_background": "light"
     },
     "output_type": "display_data"
    },
    {
     "name": "stdout",
     "output_type": "stream",
     "text": [
      "Cliente:  47\n",
      "Cliente:  ++70ByX0a3Q=\n",
      "Word ['SinActividad', 'SinActividad', 'SinActividad']\n"
     ]
    },
    {
     "data": {
      "image/png": "[encoded data removed]",
      "text/plain": [
       "<Figure size 432x288 with 1 Axes>"
      ]
     },
     "metadata": {
      "needs_background": "light"
     },
     "output_type": "display_data"
    },
    {
     "name": "stdout",
     "output_type": "stream",
     "text": [
      "Cliente:  57\n",
      "Cliente:  ++7i5fi6kBU=\n",
      "Word ['SinActividad', 'SinActividad', 'SinActividad']\n"
     ]
    },
    {
     "data": {
      "image/png": "[encoded data removed]",
      "text/plain": [
       "<Figure size 432x288 with 1 Axes>"
      ]
     },
     "metadata": {
      "needs_background": "light"
     },
     "output_type": "display_data"
    }
   ],
   "source": [
    "longitud_de_regla = 3\n",
    "\n",
    "for i in range(len(resultados_list[0])):\n",
    "    \n",
    "    # Clientes - Coordenada_X - Coordenada_Y - Distribucion - Longitud - Regla_extendida\n",
    "    cliente = resultados_list[0][i]\n",
    "    xx = resultados_list[1][i]\n",
    "    yy = resultados_list[2][i]\n",
    "    distribucion = resultados_list[3][i]\n",
    "    longitud = resultados_list[4][i]\n",
    "    regla = resultados_list[5][i]\n",
    "    \n",
    "    if longitud_de_regla == longitud:\n",
    "        print(\"Cliente: \",i)\n",
    "        print(\"Cliente: \",cliente)\n",
    "        print(\"Word\", regla)\n",
    "        plt.bar(xx,yy)\n",
    "        plt.plot(xx,distribucion)\n",
    "        plt.show()"
   ]
  },
  {
   "cell_type": "code",
   "execution_count": null,
   "metadata": {},
   "outputs": [],
   "source": []
  },
  {
   "cell_type": "code",
   "execution_count": null,
   "metadata": {},
   "outputs": [],
   "source": []
  },
  {
   "cell_type": "code",
   "execution_count": null,
   "metadata": {},
   "outputs": [],
   "source": []
  },
  {
   "cell_type": "code",
   "execution_count": null,
   "metadata": {},
   "outputs": [],
   "source": []
  },
  {
   "cell_type": "code",
   "execution_count": null,
   "metadata": {},
   "outputs": [],
   "source": []
  },
  {
   "cell_type": "code",
   "execution_count": null,
   "metadata": {},
   "outputs": [],
   "source": []
  },
  {
   "cell_type": "code",
   "execution_count": null,
   "metadata": {},
   "outputs": [],
   "source": []
  },
  {
   "cell_type": "code",
   "execution_count": null,
   "metadata": {},
   "outputs": [],
   "source": []
  },
  {
   "cell_type": "code",
   "execution_count": null,
   "metadata": {},
   "outputs": [],
   "source": []
  },
  {
   "cell_type": "code",
   "execution_count": null,
   "metadata": {},
   "outputs": [],
   "source": []
  },
  {
   "cell_type": "code",
   "execution_count": null,
   "metadata": {},
   "outputs": [],
   "source": []
  },
  {
   "cell_type": "code",
   "execution_count": null,
   "metadata": {},
   "outputs": [],
   "source": []
  },
  {
   "cell_type": "code",
   "execution_count": null,
   "metadata": {},
   "outputs": [],
   "source": []
  },
  {
   "cell_type": "code",
   "execution_count": null,
   "metadata": {},
   "outputs": [],
   "source": []
  },
  {
   "cell_type": "code",
   "execution_count": null,
   "metadata": {},
   "outputs": [],
   "source": []
  },
  {
   "cell_type": "code",
   "execution_count": null,
   "metadata": {},
   "outputs": [],
   "source": []
  },
  {
   "cell_type": "code",
   "execution_count": null,
   "metadata": {},
   "outputs": [],
   "source": []
  },
  {
   "cell_type": "code",
   "execution_count": null,
   "metadata": {},
   "outputs": [],
   "source": []
  },
  {
   "cell_type": "code",
   "execution_count": null,
   "metadata": {},
   "outputs": [],
   "source": [
    "# Reglas validas\n",
    "# Cliente  Regla ocurrencias\n",
    "reglas_validas = [[], [], []]\n",
    "\n",
    "for i in range(len(clientes)):\n",
    "    # Extraer Reglas validad  == funcion get rules\n",
    "    # para cada regla\n",
    "    #    \n",
    "    \n",
    "        reglas_validas[0].append(clientes[i])\n",
    "        reglas_validas[1].append(i)\n",
    "        reglas_validas[2].append(i*i)"
   ]
  },
  {
   "cell_type": "code",
   "execution_count": null,
   "metadata": {
    "scrolled": true
   },
   "outputs": [],
   "source": [
    "reglas_validas\n",
    "\n",
    "pd.DataFrame(data= {'Cliente':reglas_validas[0], 'Regla': reglas_validas[1], 'Incidencias': reglas_validas[2]})"
   ]
  },
  {
   "cell_type": "code",
   "execution_count": null,
   "metadata": {},
   "outputs": [],
   "source": []
  },
  {
   "cell_type": "code",
   "execution_count": null,
   "metadata": {},
   "outputs": [],
   "source": []
  },
  {
   "cell_type": "code",
   "execution_count": null,
   "metadata": {},
   "outputs": [],
   "source": []
  },
  {
   "cell_type": "code",
   "execution_count": null,
   "metadata": {},
   "outputs": [],
   "source": []
  },
  {
   "cell_type": "code",
   "execution_count": null,
   "metadata": {},
   "outputs": [],
   "source": []
  },
  {
   "cell_type": "code",
   "execution_count": null,
   "metadata": {},
   "outputs": [],
   "source": []
  },
  {
   "cell_type": "code",
   "execution_count": null,
   "metadata": {},
   "outputs": [],
   "source": []
  },
  {
   "cell_type": "code",
   "execution_count": null,
   "metadata": {},
   "outputs": [],
   "source": []
  },
  {
   "cell_type": "code",
   "execution_count": null,
   "metadata": {},
   "outputs": [],
   "source": []
  },
  {
   "cell_type": "code",
   "execution_count": null,
   "metadata": {},
   "outputs": [],
   "source": []
  },
  {
   "cell_type": "code",
   "execution_count": null,
   "metadata": {},
   "outputs": [],
   "source": []
  },
  {
   "cell_type": "code",
   "execution_count": null,
   "metadata": {},
   "outputs": [],
   "source": []
  },
  {
   "cell_type": "code",
   "execution_count": null,
   "metadata": {},
   "outputs": [],
   "source": []
  },
  {
   "cell_type": "code",
   "execution_count": null,
   "metadata": {},
   "outputs": [],
   "source": []
  },
  {
   "cell_type": "code",
   "execution_count": null,
   "metadata": {},
   "outputs": [],
   "source": []
  }
 ],
 "metadata": {
  "kernelspec": {
   "display_name": "Python 3",
   "language": "python",
   "name": "python3"
  },
  "language_info": {
   "codemirror_mode": {
    "name": "ipython",
    "version": 3
   },
   "file_extension": ".py",
   "mimetype": "text/x-python",
   "name": "python",
   "nbconvert_exporter": "python",
   "pygments_lexer": "ipython3",
   "version": "3.7.0"
  },
  "toc": {
   "base_numbering": 1,
   "nav_menu": {},
   "number_sections": false,
   "sideBar": true,
   "skip_h1_title": false,
   "title_cell": "Table of Contents",
   "title_sidebar": "Contents",
   "toc_cell": false,
   "toc_position": {
    "height": "calc(100% - 180px)",
    "left": "10px",
    "top": "150px",
    "width": "384px"
   },
   "toc_section_display": true,
   "toc_window_display": true
  }
 },
 "nbformat": 4,
 "nbformat_minor": 2
}
